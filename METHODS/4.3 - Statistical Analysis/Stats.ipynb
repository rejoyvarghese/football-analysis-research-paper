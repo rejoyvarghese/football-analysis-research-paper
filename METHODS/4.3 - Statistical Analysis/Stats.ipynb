{
 "cells": [
  {
   "cell_type": "code",
   "execution_count": 1,
   "id": "8245eccf-dec2-4618-a1d2-f4f217058313",
   "metadata": {},
   "outputs": [],
   "source": [
    "import pandas as pd"
   ]
  },
  {
   "cell_type": "code",
   "execution_count": 3,
   "id": "bb140dea-105f-4ed7-a2cb-07d316910b21",
   "metadata": {},
   "outputs": [],
   "source": [
    "# Load the data\n",
    "players = pd.read_csv(\"player_stats.csv\")\n",
    "teams = pd.read_csv(\"team_data.csv\")\n",
    "world_cups = pd.read_csv(\"world_cups.csv\")"
   ]
  },
  {
   "cell_type": "code",
   "execution_count": 5,
   "id": "326f6925-1117-43ff-9bf0-2c6b8f538638",
   "metadata": {},
   "outputs": [
    {
     "name": "stdout",
     "output_type": "stream",
     "text": [
      "<class 'pandas.core.frame.DataFrame'>\n",
      "RangeIndex: 680 entries, 0 to 679\n",
      "Data columns (total 17 columns):\n",
      " #   Column        Non-Null Count  Dtype  \n",
      "---  ------        --------------  -----  \n",
      " 0   player        680 non-null    object \n",
      " 1   position      680 non-null    object \n",
      " 2   team          680 non-null    object \n",
      " 3   age           680 non-null    object \n",
      " 4   club          679 non-null    object \n",
      " 5   birth_year    680 non-null    int64  \n",
      " 6   games         680 non-null    int64  \n",
      " 7   games_starts  680 non-null    int64  \n",
      " 8   minutes       680 non-null    int64  \n",
      " 9   minutes_90s   680 non-null    float64\n",
      " 10  goals         680 non-null    int64  \n",
      " 11  assists       680 non-null    int64  \n",
      " 12  goals_pens    680 non-null    int64  \n",
      " 13  pens_made     680 non-null    int64  \n",
      " 14  pens_att      680 non-null    int64  \n",
      " 15  cards_yellow  680 non-null    int64  \n",
      " 16  cards_red     680 non-null    int64  \n",
      "dtypes: float64(1), int64(11), object(5)\n",
      "memory usage: 90.4+ KB\n"
     ]
    }
   ],
   "source": [
    "players.info()"
   ]
  },
  {
   "cell_type": "code",
   "execution_count": 28,
   "id": "886a8aee-6054-4f5e-a6de-8dedd75dbddc",
   "metadata": {},
   "outputs": [
    {
     "data": {
      "text/html": [
       "<div>\n",
       "<style scoped>\n",
       "    .dataframe tbody tr th:only-of-type {\n",
       "        vertical-align: middle;\n",
       "    }\n",
       "\n",
       "    .dataframe tbody tr th {\n",
       "        vertical-align: top;\n",
       "    }\n",
       "\n",
       "    .dataframe thead th {\n",
       "        text-align: right;\n",
       "    }\n",
       "</style>\n",
       "<table border=\"1\" class=\"dataframe\">\n",
       "  <thead>\n",
       "    <tr style=\"text-align: right;\">\n",
       "      <th></th>\n",
       "      <th>player</th>\n",
       "      <th>Goals_per_match</th>\n",
       "    </tr>\n",
       "  </thead>\n",
       "  <tbody>\n",
       "    <tr>\n",
       "      <th>377</th>\n",
       "      <td>Kylian Mbappé</td>\n",
       "      <td>1.142857</td>\n",
       "    </tr>\n",
       "    <tr>\n",
       "      <th>388</th>\n",
       "      <td>Lionel Messi</td>\n",
       "      <td>1.000000</td>\n",
       "    </tr>\n",
       "    <tr>\n",
       "      <th>225</th>\n",
       "      <td>Giorgian De Arrascaeta</td>\n",
       "      <td>1.000000</td>\n",
       "    </tr>\n",
       "    <tr>\n",
       "      <th>509</th>\n",
       "      <td>Paik Seung-ho</td>\n",
       "      <td>1.000000</td>\n",
       "    </tr>\n",
       "    <tr>\n",
       "      <th>335</th>\n",
       "      <td>Kai Havertz</td>\n",
       "      <td>1.000000</td>\n",
       "    </tr>\n",
       "    <tr>\n",
       "      <th>185</th>\n",
       "      <td>Enner Valencia</td>\n",
       "      <td>1.000000</td>\n",
       "    </tr>\n",
       "    <tr>\n",
       "      <th>327</th>\n",
       "      <td>Juan Pablo Vargas</td>\n",
       "      <td>1.000000</td>\n",
       "    </tr>\n",
       "    <tr>\n",
       "      <th>540</th>\n",
       "      <td>Richarlison</td>\n",
       "      <td>0.750000</td>\n",
       "    </tr>\n",
       "    <tr>\n",
       "      <th>229</th>\n",
       "      <td>Gonçalo Ramos</td>\n",
       "      <td>0.750000</td>\n",
       "    </tr>\n",
       "    <tr>\n",
       "      <th>109</th>\n",
       "      <td>Bukayo Saka</td>\n",
       "      <td>0.750000</td>\n",
       "    </tr>\n",
       "  </tbody>\n",
       "</table>\n",
       "</div>"
      ],
      "text/plain": [
       "                     player  Goals_per_match\n",
       "377           Kylian Mbappé         1.142857\n",
       "388            Lionel Messi         1.000000\n",
       "225  Giorgian De Arrascaeta         1.000000\n",
       "509           Paik Seung-ho         1.000000\n",
       "335             Kai Havertz         1.000000\n",
       "185          Enner Valencia         1.000000\n",
       "327       Juan Pablo Vargas         1.000000\n",
       "540             Richarlison         0.750000\n",
       "229           Gonçalo Ramos         0.750000\n",
       "109             Bukayo Saka         0.750000"
      ]
     },
     "execution_count": 28,
     "metadata": {},
     "output_type": "execute_result"
    }
   ],
   "source": [
    "#Player Performance Evaluation\n",
    "\n",
    "# Calculate goals per match\n",
    "players['Goals_per_match'] = players['goals'] / players['games']\n",
    "\n",
    "# Display top scorers based on goals per match\n",
    "top_scorers = players.sort_values(by='Goals_per_match', ascending=False).head(10)\n",
    "top_scorers[['player', 'Goals_per_match']]\n"
   ]
  },
  {
   "cell_type": "code",
   "execution_count": 30,
   "id": "0c497464-9bfe-4994-810b-643d6f144916",
   "metadata": {},
   "outputs": [
    {
     "name": "stdout",
     "output_type": "stream",
     "text": [
      "<class 'pandas.core.frame.DataFrame'>\n",
      "RangeIndex: 32 entries, 0 to 31\n",
      "Data columns (total 48 columns):\n",
      " #   Column                      Non-Null Count  Dtype  \n",
      "---  ------                      --------------  -----  \n",
      " 0   team                        32 non-null     object \n",
      " 1   players_used                32 non-null     int64  \n",
      " 2   avg_age                     32 non-null     float64\n",
      " 3   possession                  32 non-null     float64\n",
      " 4   games                       32 non-null     int64  \n",
      " 5   games_starts                32 non-null     int64  \n",
      " 6   minutes                     32 non-null     int64  \n",
      " 7   goals                       32 non-null     int64  \n",
      " 8   assists                     32 non-null     int64  \n",
      " 9   goals_pens                  32 non-null     int64  \n",
      " 10  pens_made                   32 non-null     int64  \n",
      " 11  pens_att                    32 non-null     int64  \n",
      " 12  cards_yellow                32 non-null     int64  \n",
      " 13  cards_red                   32 non-null     int64  \n",
      " 14  gk_shots_on_target_against  32 non-null     int64  \n",
      " 15  gk_saves                    32 non-null     int64  \n",
      " 16  gk_save_pct                 32 non-null     float64\n",
      " 17  gk_clean_sheets             32 non-null     int64  \n",
      " 18  shots                       32 non-null     int64  \n",
      " 19  shots_on_target             32 non-null     int64  \n",
      " 20  goals_per_shot              32 non-null     float64\n",
      " 21  shots_free_kicks            32 non-null     int64  \n",
      " 22  passes_completed            32 non-null     int64  \n",
      " 23  passes                      32 non-null     int64  \n",
      " 24  assisted_shots              32 non-null     int64  \n",
      " 25  passes_free_kicks           32 non-null     int64  \n",
      " 26  through_balls               32 non-null     int64  \n",
      " 27  throw_ins                   32 non-null     int64  \n",
      " 28  corner_kicks                32 non-null     int64  \n",
      " 29  passes_offsides             32 non-null     int64  \n",
      " 30  passes_blocked              32 non-null     int64  \n",
      " 31  tackles                     32 non-null     int64  \n",
      " 32  tackles_won                 32 non-null     int64  \n",
      " 33  blocks                      32 non-null     int64  \n",
      " 34  clearances                  32 non-null     int64  \n",
      " 35  touches                     32 non-null     int64  \n",
      " 36  dribbles_completed          32 non-null     int64  \n",
      " 37  dribbles                    32 non-null     int64  \n",
      " 38  passes_received             32 non-null     int64  \n",
      " 39  games_complete              32 non-null     int64  \n",
      " 40  points_per_game             32 non-null     float64\n",
      " 41  fouls                       32 non-null     int64  \n",
      " 42  fouled                      32 non-null     int64  \n",
      " 43  offsides                    32 non-null     int64  \n",
      " 44  pens_won                    32 non-null     int64  \n",
      " 45  pens_conceded               32 non-null     int64  \n",
      " 46  own_goals                   32 non-null     int64  \n",
      " 47  ball_recoveries             32 non-null     int64  \n",
      "dtypes: float64(5), int64(42), object(1)\n",
      "memory usage: 12.1+ KB\n"
     ]
    }
   ],
   "source": [
    "teams.info()"
   ]
  },
  {
   "cell_type": "code",
   "execution_count": 44,
   "id": "d01a9d08-2397-4fe1-89f5-f5e426e27428",
   "metadata": {},
   "outputs": [
    {
     "name": "stdout",
     "output_type": "stream",
     "text": [
      "Accuracy: 1.0\n"
     ]
    }
   ],
   "source": [
    "#Predicting Match Outcomes\n",
    "\n",
    "# Since matches have no result we use a proxy for Match_Result based on goals\n",
    "# This is a simplified approach to adjust it as needed for our data.\n",
    "teams['Match_Result'] = (teams['goals'] > teams['goals'].mean()).astype(int)\n",
    "\n",
    "from sklearn.model_selection import train_test_split\n",
    "from sklearn.linear_model import LogisticRegression\n",
    "from sklearn.metrics import accuracy_score\n",
    "\n",
    "# Calculate Pass Accuracy\n",
    "teams['Pass_Accuracy'] = (teams['passes_completed'] / teams['passes']) * 100\n",
    "\n",
    "# Prepare data for training\n",
    "features = teams[['goals', 'possession', 'Pass_Accuracy']]\n",
    "labels = teams['Match_Result']\n",
    "\n",
    "# Split data\n",
    "X_train, X_test, y_train, y_test = train_test_split(features, labels, test_size=0.2, random_state=42)\n",
    "\n",
    "# Train the model\n",
    "model = LogisticRegression()\n",
    "model.fit(X_train, y_train)\n",
    "\n",
    "# Test the model\n",
    "predictions = model.predict(X_test)\n",
    "print(\"Accuracy:\", accuracy_score(y_test, predictions))\n"
   ]
  },
  {
   "cell_type": "code",
   "execution_count": 52,
   "id": "fe07f9d9-2f6c-49eb-8a61-63e43e5bc7dd",
   "metadata": {},
   "outputs": [
    {
     "name": "stderr",
     "output_type": "stream",
     "text": [
      "C:\\Users\\rishi\\anaconda3\\Lib\\site-packages\\sklearn\\cluster\\_kmeans.py:1446: UserWarning: KMeans is known to have a memory leak on Windows with MKL, when there are less chunks than available threads. You can avoid it by setting the environment variable OMP_NUM_THREADS=1.\n",
      "  warnings.warn(\n"
     ]
    },
    {
     "data": {
      "image/png": "[encoded data removed]",
      "text/plain": [
       "<Figure size 640x480 with 2 Axes>"
      ]
     },
     "metadata": {},
     "output_type": "display_data"
    }
   ],
   "source": [
    "#Improved Tactical Understanding\n",
    "\n",
    "from sklearn.cluster import KMeans\n",
    "import matplotlib.pyplot as plt\n",
    "\n",
    "# Calculate Pass Accuracy\n",
    "teams['Pass_Accuracy'] = (teams['passes_completed'] / teams['passes']) * 100\n",
    "\n",
    "# Apply clustering (excluding Goals_Conceded if not available)\n",
    "kmeans = KMeans(n_clusters=4, random_state=0).fit(teams[['possession', 'Pass_Accuracy']])\n",
    "teams['Play_Style'] = kmeans.labels_\n",
    "\n",
    "# Visualize clusters\n",
    "plt.scatter(teams['possession'], teams['Pass_Accuracy'], c=teams['Play_Style'], cmap='viridis')\n",
    "plt.xlabel('Possession')\n",
    "plt.ylabel('Pass Accuracy')\n",
    "plt.colorbar(label='Play Style Cluster')\n",
    "plt.show()\n"
   ]
  },
  {
   "cell_type": "code",
   "execution_count": 74,
   "id": "6d0f9a9f-a6e3-411a-80ea-97f95bde483d",
   "metadata": {},
   "outputs": [
    {
     "name": "stdout",
     "output_type": "stream",
     "text": [
      "Total forwards: 185\n",
      "Total high scorers: 65\n",
      "            player  Goals_per_match\n",
      "377  Kylian Mbappé         1.142857\n",
      "388   Lionel Messi         1.000000\n",
      "335    Kai Havertz         1.000000\n"
     ]
    }
   ],
   "source": [
    "#Team Management and Player Selection\n",
    "\n",
    "# Check players with position as 'Forward'\n",
    "forwards = players[players['position'] == 'FW']\n",
    "print(\"Total forwards:\", len(forwards))\n",
    "\n",
    "# Check players with Goals per Match greater than 0.3\n",
    "high_scorers = players[players['Goals_per_match'] > 0.3]\n",
    "print(\"Total high scorers:\", len(high_scorers))\n",
    "\n",
    "\n",
    "# Try a lower threshold for Goals per Match\n",
    "selected_players = players[(players['position'] == 'FW') & (players['Goals_per_match'] > 0.1)]\n",
    "selected_players = selected_players.sort_values(by='Goals_per_match', ascending=False).head(3)\n",
    "print(selected_players[['player', 'Goals_per_match']])\n",
    "\n"
   ]
  },
  {
   "cell_type": "code",
   "execution_count": 78,
   "id": "ac350c40-6f6f-4da0-9274-1e8d09c54699",
   "metadata": {},
   "outputs": [
    {
     "name": "stdout",
     "output_type": "stream",
     "text": [
      "<class 'pandas.core.frame.DataFrame'>\n",
      "RangeIndex: 22 entries, 0 to 21\n",
      "Data columns (total 10 columns):\n",
      " #   Column          Non-Null Count  Dtype \n",
      "---  ------          --------------  ----- \n",
      " 0   Year            22 non-null     int64 \n",
      " 1   Country         22 non-null     object\n",
      " 2   Winner          22 non-null     object\n",
      " 3   Runners-Up      22 non-null     object\n",
      " 4   Third           22 non-null     object\n",
      " 5   Fourth          22 non-null     object\n",
      " 6   GoalsScored     22 non-null     int64 \n",
      " 7   QualifiedTeams  22 non-null     int64 \n",
      " 8   MatchesPlayed   22 non-null     int64 \n",
      " 9    Attendance     22 non-null     object\n",
      "dtypes: int64(4), object(6)\n",
      "memory usage: 1.8+ KB\n"
     ]
    }
   ],
   "source": [
    "world_cups.info()"
   ]
  },
  {
   "cell_type": "code",
   "execution_count": 76,
   "id": "c1d6bbeb-5c25-42cb-85ee-cfba9aa81de5",
   "metadata": {},
   "outputs": [
    {
     "name": "stdout",
     "output_type": "stream",
     "text": [
      "Winner\n",
      "Brazil        5\n",
      "Italy         4\n",
      "Germany FR    3\n",
      "Argentina     3\n",
      "Uruguay       2\n",
      "France        2\n",
      "England       1\n",
      "Spain         1\n",
      "Germany       1\n",
      "Name: count, dtype: int64\n"
     ]
    },
    {
     "data": {
      "image/png": "[encoded data removed]",
      "text/plain": [
       "<Figure size 640x480 with 1 Axes>"
      ]
     },
     "metadata": {},
     "output_type": "display_data"
    }
   ],
   "source": [
    "#World Cup Wins Analysis\n",
    "\n",
    "# Count the number of World Cups each country has won\n",
    "world_cup_wins = world_cups['Winner'].value_counts()\n",
    "print(world_cup_wins)\n",
    "\n",
    "# Plot world cup wins\n",
    "world_cup_wins.plot(kind='bar', title=\"World Cup Wins by Country\")\n",
    "plt.xlabel(\"Country\")\n",
    "plt.ylabel(\"World Cups Won\")\n",
    "plt.show()\n"
   ]
  },
  {
   "cell_type": "code",
   "execution_count": null,
   "id": "bd725ec2-30f5-4456-b60e-34228b14820b",
   "metadata": {},
   "outputs": [],
   "source": []
  }
 ],
 "metadata": {
  "kernelspec": {
   "display_name": "Python 3 (ipykernel)",
   "language": "python",
   "name": "python3"
  },
  "language_info": {
   "codemirror_mode": {
    "name": "ipython",
    "version": 3
   },
   "file_extension": ".py",
   "mimetype": "text/x-python",
   "name": "python",
   "nbconvert_exporter": "python",
   "pygments_lexer": "ipython3",
   "version": "3.12.4"
  }
 },
 "nbformat": 4,
 "nbformat_minor": 5
}
